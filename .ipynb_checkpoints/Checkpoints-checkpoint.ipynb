{
 "cells": [
  {
   "cell_type": "markdown",
   "id": "70d68298",
   "metadata": {
    "id": "70d68298"
   },
   "source": [
    "# Checkpoints"
   ]
  },
  {
   "cell_type": "markdown",
   "id": "67d0260a",
   "metadata": {
    "id": "67d0260a"
   },
   "source": [
    "**CP1**:\n",
    "Given the list $[A, B, C]$, use the `itertools` module to generate all possible\n",
    "combinations of 2 elements.\n",
    "\n",
    "**Expected Output**:\n",
    "$$\n",
    " (A, B) \\\\\n",
    " (A, C) \\\\\n",
    " (B, C)\n",
    "$$"
   ]
  },
  {
   "cell_type": "code",
   "execution_count": 1,
   "id": "9dd63d67",
   "metadata": {
    "id": "9dd63d67"
   },
   "outputs": [],
   "source": [
    "import itertools"
   ]
  },
  {
   "cell_type": "code",
   "execution_count": 5,
   "id": "0df22306",
   "metadata": {},
   "outputs": [
    {
     "data": {
      "text/plain": [
       "[('A', 'B'), ('A', 'C'), ('B', 'C')]"
      ]
     },
     "execution_count": 5,
     "metadata": {},
     "output_type": "execute_result"
    }
   ],
   "source": [
    "lst = ['A', 'B', 'C']\n",
    "\n",
    "list(itertools.combinations(lst, 2))"
   ]
  },
  {
   "cell_type": "markdown",
   "id": "31c15dce",
   "metadata": {
    "id": "31c15dce"
   },
   "source": [
    "**CP2**:\n",
    "Use the `itertools` module to create a sequence that cycles through\n",
    "['Python', 'is', 'fun'] infinitely. Print the first 10 elements of the sequence.\n",
    "\n",
    "**Expected Output**:\n",
    "$$\n",
    "Python \\\\\n",
    "is\\\\\n",
    "fun\\\\\n",
    "Python\\\\\n",
    "is\\\\\n",
    "fun\\\\\n",
    "Python\\\\\n",
    "is\\\\\n",
    "fun\\\\\n",
    "Python\n",
    "$$"
   ]
  },
  {
   "cell_type": "code",
   "execution_count": 6,
   "id": "c75f246c",
   "metadata": {
    "id": "c75f246c"
   },
   "outputs": [
    {
     "name": "stdout",
     "output_type": "stream",
     "text": [
      "Python\n",
      "is\n",
      "fun\n",
      "Python\n",
      "is\n",
      "fun\n",
      "Python\n",
      "is\n",
      "fun\n",
      "Python\n"
     ]
    }
   ],
   "source": [
    "cycle = itertools.cycle(['Python', 'is', 'fun'])\n",
    "\n",
    "for i in range(10):\n",
    "    print(next(cycle))"
   ]
  },
  {
   "cell_type": "markdown",
   "id": "cbef0f63",
   "metadata": {
    "id": "cbef0f63"
   },
   "source": [
    "**CP3**:\n",
    "Use the `glob` module to list all python (.py) files in your current working directory.\n",
    "\n",
    "\n"
   ]
  },
  {
   "cell_type": "code",
   "execution_count": 7,
   "id": "3e62d5b4",
   "metadata": {
    "id": "3e62d5b4"
   },
   "outputs": [
    {
     "name": "stdout",
     "output_type": "stream",
     "text": [
      "[]\n"
     ]
    }
   ],
   "source": [
    "import glob\n",
    "\n",
    "python_files = glob.glob('*.py')\n",
    "\n",
    "print(python_files)"
   ]
  },
  {
   "cell_type": "markdown",
   "id": "d266d698",
   "metadata": {
    "id": "d266d698"
   },
   "source": [
    "**CP4**: You are given the following HTML content below. Write a function that uses BeautifulSoup to parse the HTML and extract the text inside the   '$<p>$'   tag.\n"
   ]
  },
  {
   "cell_type": "code",
   "execution_count": null,
   "id": "27f941c8",
   "metadata": {
    "id": "27f941c8"
   },
   "outputs": [],
   "source": [
    "#<html><body><div class='main'><h1>Welcome to AI</h1><p>AI is transforming the world</p></div></body></html>"
   ]
  },
  {
   "cell_type": "code",
   "execution_count": 9,
   "id": "6fb1cdcf",
   "metadata": {
    "id": "6fb1cdcf"
   },
   "outputs": [
    {
     "data": {
      "text/plain": [
       "'AI is transforming the world'"
      ]
     },
     "execution_count": 9,
     "metadata": {},
     "output_type": "execute_result"
    }
   ],
   "source": [
    "html_doc = \"<html><body><div class='main'><h1>Welcome to AI</h1><p>AI is transforming the world</p></div></body></html>\"\n",
    "\n",
    "from bs4 import BeautifulSoup\n",
    "\n",
    "soup = BeautifulSoup(html_doc)\n",
    "\n",
    "soup.find('p').text"
   ]
  },
  {
   "cell_type": "markdown",
   "id": "a1fce3ef",
   "metadata": {
    "id": "a1fce3ef"
   },
   "source": [
    "**CP5**: Write a function that uses the re module to replace all occurrences of the word \"AI\" with \"Artificial Intelligence\" in a given text."
   ]
  },
  {
   "cell_type": "code",
   "execution_count": 11,
   "id": "07178a2d",
   "metadata": {
    "id": "07178a2d"
   },
   "outputs": [
    {
     "data": {
      "text/plain": [
       "'Artificial Intelligence is amazing.'"
      ]
     },
     "execution_count": 11,
     "metadata": {},
     "output_type": "execute_result"
    }
   ],
   "source": [
    "import re\n",
    "\n",
    "def replace_ai_with_artificial_intelligence(text):\n",
    "    pattern = re.compile(r'\\bAI\\b')\n",
    "\n",
    "    replaced_text = re.sub(pattern, 'Artificial Intelligence', text)\n",
    "\n",
    "    return replaced_text\n",
    "\n",
    "replace_ai_with_artificial_intelligence(\"AI is amazing.\")"
   ]
  },
  {
   "cell_type": "markdown",
   "id": "4e471de6",
   "metadata": {
    "id": "4e471de6"
   },
   "source": [
    "**CP6**: Create a numpy array of 10 zeros."
   ]
  },
  {
   "cell_type": "code",
   "execution_count": 15,
   "id": "7f6e9acb",
   "metadata": {
    "id": "7f6e9acb"
   },
   "outputs": [
    {
     "name": "stdout",
     "output_type": "stream",
     "text": [
      "[0. 0. 0. 0. 0. 0. 0. 0. 0. 0.]\n"
     ]
    }
   ],
   "source": [
    "import numpy as np\n",
    "\n",
    "zeros = np.zeros(10)\n",
    "\n",
    "print(zeros)"
   ]
  },
  {
   "cell_type": "markdown",
   "id": "5f52a63e",
   "metadata": {
    "id": "5f52a63e"
   },
   "source": [
    "**CP7** Create a numpy array of the integers from 10 to 49."
   ]
  },
  {
   "cell_type": "code",
   "execution_count": 16,
   "id": "ddb01e9a",
   "metadata": {
    "id": "ddb01e9a"
   },
   "outputs": [
    {
     "name": "stdout",
     "output_type": "stream",
     "text": [
      "[10 11 12 13 14 15 16 17 18 19 20 21 22 23 24 25 26 27 28 29 30 31 32 33\n",
      " 34 35 36 37 38 39 40 41 42 43 44 45 46 47 48 49]\n"
     ]
    }
   ],
   "source": [
    "rng = np.arange(10, 50)\n",
    "\n",
    "print(rng)"
   ]
  },
  {
   "cell_type": "markdown",
   "id": "79e4d614",
   "metadata": {
    "id": "79e4d614"
   },
   "source": [
    "**CP8**: Create a 3x3 numpy matrix, filled with values ranging from 0 to 8."
   ]
  },
  {
   "cell_type": "code",
   "execution_count": 19,
   "id": "d3eddea4",
   "metadata": {
    "id": "d3eddea4"
   },
   "outputs": [
    {
     "name": "stdout",
     "output_type": "stream",
     "text": [
      "[[0 1 2]\n",
      " [3 4 5]\n",
      " [6 7 8]]\n"
     ]
    }
   ],
   "source": [
    "matrix = np.arange(9)\n",
    "matrix.resize(3, 3)\n",
    "\n",
    "print(matrix)"
   ]
  },
  {
   "cell_type": "markdown",
   "id": "1b09270f",
   "metadata": {
    "id": "1b09270f"
   },
   "source": [
    "**CP9**: Explain why machine learning models require large amounts of data? What does it mean for an amount of data to be **large**?"
   ]
  },
  {
   "cell_type": "markdown",
   "id": "c3daa5ee",
   "metadata": {
    "id": "a57e9726"
   },
   "source": [
    "Machine learning models require large amounts of data to learn complex patterns and generalize well to new, unseen data. A \"large\" amount of data means having enough examples to effectively learn and generalize the underlying patterns, which varies depending on the problem and model complexity."
   ]
  },
  {
   "cell_type": "markdown",
   "id": "1a357bde",
   "metadata": {
    "id": "1a357bde"
   },
   "source": [
    "**CP10**: Explain 2 ways AI can be used in an adverserial way, and what can be done to prevent it."
   ]
  },
  {
   "cell_type": "markdown",
   "id": "bc07e36f",
   "metadata": {
    "id": "a9db70af"
   },
   "source": [
    "AI can be used in an adversarial way, such as in adversarial attacks or social engineering. To prevent these attacks, technical measures like developing robust machine learning models, and non-technical measures like educating people and implementing policies can be taken. A comprehensive strategy that considers both technical and non-technical measures is important to prevent adversarial use of AI."
   ]
  }
 ],
 "metadata": {
  "colab": {
   "provenance": []
  },
  "kernelspec": {
   "display_name": "Python 3 (ipykernel)",
   "language": "python",
   "name": "python3"
  },
  "language_info": {
   "codemirror_mode": {
    "name": "ipython",
    "version": 3
   },
   "file_extension": ".py",
   "mimetype": "text/x-python",
   "name": "python",
   "nbconvert_exporter": "python",
   "pygments_lexer": "ipython3",
   "version": "3.9.7"
  },
  "varInspector": {
   "cols": {
    "lenName": 16,
    "lenType": 16,
    "lenVar": 40
   },
   "kernels_config": {
    "python": {
     "delete_cmd_postfix": "",
     "delete_cmd_prefix": "del ",
     "library": "var_list.py",
     "varRefreshCmd": "print(var_dic_list())"
    },
    "r": {
     "delete_cmd_postfix": ") ",
     "delete_cmd_prefix": "rm(",
     "library": "var_list.r",
     "varRefreshCmd": "cat(var_dic_list()) "
    }
   },
   "types_to_exclude": [
    "module",
    "function",
    "builtin_function_or_method",
    "instance",
    "_Feature"
   ],
   "window_display": false
  }
 },
 "nbformat": 4,
 "nbformat_minor": 5
}
